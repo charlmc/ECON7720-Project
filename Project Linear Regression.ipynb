{
 "cells": [
  {
   "cell_type": "code",
   "execution_count": 23,
   "id": "568bbf4b",
   "metadata": {},
   "outputs": [
    {
     "name": "stdout",
     "output_type": "stream",
     "text": [
      "     expected_recovery_amount  actual_recovery_amount recovery_strategy  age  \\\n",
      "0                         194              263.540000                 0   19   \n",
      "1                         486              416.090000                 0   25   \n",
      "2                         527              429.350000                 0   27   \n",
      "3                         536              296.990000                 0   25   \n",
      "4                         541              346.385000                 0   34   \n",
      "..                        ...                     ...               ...  ...   \n",
      "912                      1988             1475.957452                 1   28   \n",
      "913                      1988             2508.799693                 1   34   \n",
      "914                      1990             2072.971170                 1   40   \n",
      "915                      1992             1364.515730                 1   23   \n",
      "916                      1997             2694.498800                 1   33   \n",
      "\n",
      "    isMale  \n",
      "0        1  \n",
      "1        0  \n",
      "2        1  \n",
      "3        1  \n",
      "4        1  \n",
      "..     ...  \n",
      "912      0  \n",
      "913      0  \n",
      "914      1  \n",
      "915      1  \n",
      "916      1  \n",
      "\n",
      "[917 rows x 5 columns]\n"
     ]
    }
   ],
   "source": [
    "import pandas as pd\n",
    "import numpy as np\n",
    "\n",
    "\n",
    "df = pd.read_csv(r\"bank_data.csv\")\n",
    "\n",
    "\n",
    "\n",
    "filtered_df = df[(df['recovery_strategy'] == 'Level 0 Recovery') | (df['recovery_strategy'] == 'Level 1 Recovery')]\n",
    "\n",
    "\n",
    "del filtered_df['id']\n",
    "\n",
    "filtered_df.loc[filtered_df['recovery_strategy'] == 'Level 0 Recovery', 'recovery_strategy'] = 0\n",
    "filtered_df.loc[filtered_df['recovery_strategy'] == 'Level 1 Recovery', 'recovery_strategy'] = 1\n",
    "filtered_df.loc[filtered_df['sex'] == 'Male', 'sex'] = 1\n",
    "filtered_df.loc[filtered_df['sex'] == 'Female', 'sex'] = 0\n",
    "filtered_df = filtered_df.rename(columns={'sex': 'isMale'})\n",
    "\n",
    "\n",
    "print(filtered_df)"
   ]
  },
  {
   "cell_type": "code",
   "execution_count": 32,
   "id": "2e194fed",
   "metadata": {},
   "outputs": [],
   "source": [
    "from sklearn.model_selection import train_test_split\n",
    "from sklearn.linear_model import LinearRegression\n",
    "import statsmodels.api as sm"
   ]
  },
  {
   "cell_type": "code",
   "execution_count": 33,
   "id": "55a8569b",
   "metadata": {},
   "outputs": [],
   "source": [
    "X = filtered_df[['expected_recovery_amount', 'recovery_strategy','age','isMale']]\n",
    "y = filtered_df['actual_recovery_amount']\n",
    "X_train, X_test, y_train, y_test = train_test_split(X, y, test_size=0.2, random_state=42)\n"
   ]
  },
  {
   "cell_type": "code",
   "execution_count": 35,
   "id": "e7ceff60",
   "metadata": {},
   "outputs": [
    {
     "name": "stdout",
     "output_type": "stream",
     "text": [
      "Coefficients: [  0.89694568 217.70833443   5.24543384 -18.46816227]\n",
      "Intercept: -351.47754271412396\n"
     ]
    },
    {
     "ename": "AttributeError",
     "evalue": "'LinearRegression' object has no attribute 'summary'",
     "output_type": "error",
     "traceback": [
      "\u001b[0;31m---------------------------------------------------------------------------\u001b[0m",
      "\u001b[0;31mAttributeError\u001b[0m                            Traceback (most recent call last)",
      "Cell \u001b[0;32mIn[35], line 17\u001b[0m\n\u001b[1;32m     15\u001b[0m \u001b[38;5;66;03m# Make predictions on the test set\u001b[39;00m\n\u001b[1;32m     16\u001b[0m y_pred \u001b[38;5;241m=\u001b[39m model\u001b[38;5;241m.\u001b[39mpredict(X_test)\n\u001b[0;32m---> 17\u001b[0m summary \u001b[38;5;241m=\u001b[39m model\u001b[38;5;241m.\u001b[39msummary()\n",
      "\u001b[0;31mAttributeError\u001b[0m: 'LinearRegression' object has no attribute 'summary'"
     ]
    }
   ],
   "source": [
    "model = LinearRegression()\n",
    "\n",
    "# Fit the model to the training data\n",
    "model.fit(X_train, y_train)\n",
    "\n",
    "# Get the coefficients and intercept\n",
    "coefficients = model.coef_\n",
    "intercept = model.intercept_\n",
    "\n",
    "# Print the coefficients and intercept\n",
    "print(\"Coefficients:\", coefficients)\n",
    "print(\"Intercept:\", intercept)\n",
    "\n",
    "\n",
    "# Make predictions on the test set\n",
    "y_pred = model.predict(X_test)"
   ]
  },
  {
   "cell_type": "code",
   "execution_count": 36,
   "id": "8d05f1f2",
   "metadata": {},
   "outputs": [
    {
     "name": "stdout",
     "output_type": "stream",
     "text": [
      "                    Feature  Coefficient\n",
      "0                 Intercept  -351.477543\n",
      "1  expected_recovery_amount     0.896946\n",
      "2         recovery_strategy   217.708334\n",
      "3                       age     5.245434\n",
      "4                    ismale   -18.468162\n"
     ]
    }
   ],
   "source": [
    "# Coefficients and feature names\n",
    "coefficients = [0.89694568, 217.70833443, 5.24543384, -18.46816227]\n",
    "feature_names = ['expected_recovery_amount', 'recovery_strategy', 'age', 'ismale']\n",
    "intercept = -351.47754271412396\n",
    "\n",
    "# Create a DataFrame for coefficients and feature names\n",
    "coef_df = pd.DataFrame({'Feature': ['Intercept'] + feature_names, 'Coefficient': [intercept] + coefficients})\n",
    "\n",
    "# Print the DataFrame\n",
    "print(coef_df)"
   ]
  },
  {
   "cell_type": "code",
   "execution_count": null,
   "id": "0d069d9a",
   "metadata": {},
   "outputs": [],
   "source": []
  }
 ],
 "metadata": {
  "kernelspec": {
   "display_name": "Python 3 (ipykernel)",
   "language": "python",
   "name": "python3"
  },
  "language_info": {
   "codemirror_mode": {
    "name": "ipython",
    "version": 3
   },
   "file_extension": ".py",
   "mimetype": "text/x-python",
   "name": "python",
   "nbconvert_exporter": "python",
   "pygments_lexer": "ipython3",
   "version": "3.11.4"
  }
 },
 "nbformat": 4,
 "nbformat_minor": 5
}
