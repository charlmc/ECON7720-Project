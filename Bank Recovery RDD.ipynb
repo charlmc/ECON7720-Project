{
 "cells": [
  {
   "cell_type": "code",
   "execution_count": 44,
   "id": "0e3effe1",
   "metadata": {},
   "outputs": [
    {
     "data": {
      "text/html": [
       "<div>\n",
       "<style scoped>\n",
       "    .dataframe tbody tr th:only-of-type {\n",
       "        vertical-align: middle;\n",
       "    }\n",
       "\n",
       "    .dataframe tbody tr th {\n",
       "        vertical-align: top;\n",
       "    }\n",
       "\n",
       "    .dataframe thead th {\n",
       "        text-align: right;\n",
       "    }\n",
       "</style>\n",
       "<table border=\"1\" class=\"dataframe\">\n",
       "  <thead>\n",
       "    <tr style=\"text-align: right;\">\n",
       "      <th></th>\n",
       "      <th>id</th>\n",
       "      <th>expected_recovery_amount</th>\n",
       "      <th>actual_recovery_amount</th>\n",
       "      <th>recovery_strategy</th>\n",
       "      <th>age</th>\n",
       "      <th>sex</th>\n",
       "    </tr>\n",
       "  </thead>\n",
       "  <tbody>\n",
       "    <tr>\n",
       "      <th>0</th>\n",
       "      <td>2030</td>\n",
       "      <td>194</td>\n",
       "      <td>263.540</td>\n",
       "      <td>Level 0 Recovery</td>\n",
       "      <td>19</td>\n",
       "      <td>Male</td>\n",
       "    </tr>\n",
       "    <tr>\n",
       "      <th>1</th>\n",
       "      <td>1150</td>\n",
       "      <td>486</td>\n",
       "      <td>416.090</td>\n",
       "      <td>Level 0 Recovery</td>\n",
       "      <td>25</td>\n",
       "      <td>Female</td>\n",
       "    </tr>\n",
       "    <tr>\n",
       "      <th>2</th>\n",
       "      <td>380</td>\n",
       "      <td>527</td>\n",
       "      <td>429.350</td>\n",
       "      <td>Level 0 Recovery</td>\n",
       "      <td>27</td>\n",
       "      <td>Male</td>\n",
       "    </tr>\n",
       "    <tr>\n",
       "      <th>3</th>\n",
       "      <td>1838</td>\n",
       "      <td>536</td>\n",
       "      <td>296.990</td>\n",
       "      <td>Level 0 Recovery</td>\n",
       "      <td>25</td>\n",
       "      <td>Male</td>\n",
       "    </tr>\n",
       "    <tr>\n",
       "      <th>4</th>\n",
       "      <td>1995</td>\n",
       "      <td>541</td>\n",
       "      <td>346.385</td>\n",
       "      <td>Level 0 Recovery</td>\n",
       "      <td>34</td>\n",
       "      <td>Male</td>\n",
       "    </tr>\n",
       "  </tbody>\n",
       "</table>\n",
       "</div>"
      ],
      "text/plain": [
       "     id  expected_recovery_amount  actual_recovery_amount recovery_strategy  \\\n",
       "0  2030                       194                 263.540  Level 0 Recovery   \n",
       "1  1150                       486                 416.090  Level 0 Recovery   \n",
       "2   380                       527                 429.350  Level 0 Recovery   \n",
       "3  1838                       536                 296.990  Level 0 Recovery   \n",
       "4  1995                       541                 346.385  Level 0 Recovery   \n",
       "\n",
       "   age     sex  \n",
       "0   19    Male  \n",
       "1   25  Female  \n",
       "2   27    Male  \n",
       "3   25    Male  \n",
       "4   34    Male  "
      ]
     },
     "execution_count": 44,
     "metadata": {},
     "output_type": "execute_result"
    }
   ],
   "source": [
    "import pandas as pd\n",
    "import numpy as np\n",
    "bank_data = pd.read_csv(\"bank_data.csv\")\n",
    "bank_data.head()"
   ]
  },
  {
   "cell_type": "markdown",
   "id": "f945b15b",
   "metadata": {},
   "source": [
    "## Data Transformation"
   ]
  },
  {
   "cell_type": "code",
   "execution_count": 45,
   "id": "6dfb0b51",
   "metadata": {},
   "outputs": [
    {
     "data": {
      "text/plain": [
       "expected_recovery_amount      int64\n",
       "actual_recovery_amount      float64\n",
       "recovery_strategy            object\n",
       "age                           int64\n",
       "sex                          object\n",
       "dtype: object"
      ]
     },
     "execution_count": 45,
     "metadata": {},
     "output_type": "execute_result"
    }
   ],
   "source": [
    "# ID's are not useful\n",
    "bank_data = bank_data.drop(\"id\", axis='columns')\n",
    "\n",
    "# subset data for only Level 0 and 1 Recovery\n",
    "bank_data = bank_data[bank_data[\"recovery_strategy\"].str.contains(\"Level 0 Recovery|Level 1 Recovery\")]\n",
    "bank_data.head()"
   ]
  },
  {
   "cell_type": "code",
   "execution_count": 63,
   "id": "1fe42b9e",
   "metadata": {},
   "outputs": [
    {
     "data": {
      "text/html": [
       "<table class=\"simpletable\">\n",
       "<tr>\n",
       "            <td></td>               <th>coef</th>     <th>std err</th>      <th>t</th>      <th>P>|t|</th>  <th>[0.025</th>    <th>0.975]</th>  \n",
       "</tr>\n",
       "<tr>\n",
       "  <th>Intercept</th>             <td>  669.5706</td> <td>   37.068</td> <td>   18.063</td> <td> 0.000</td> <td>  596.642</td> <td>  742.500</td>\n",
       "</tr>\n",
       "<tr>\n",
       "  <th>threshold</th>             <td>  244.0563</td> <td>   53.578</td> <td>    4.555</td> <td> 0.000</td> <td>  138.644</td> <td>  349.469</td>\n",
       "</tr>\n",
       "<tr>\n",
       "  <th>running_var</th>           <td>    1.0837</td> <td>    0.365</td> <td>    2.966</td> <td> 0.003</td> <td>    0.365</td> <td>    1.802</td>\n",
       "</tr>\n",
       "<tr>\n",
       "  <th>running_var:threshold</th> <td>   -0.4303</td> <td>    0.502</td> <td>   -0.858</td> <td> 0.392</td> <td>   -1.417</td> <td>    0.557</td>\n",
       "</tr>\n",
       "</table>"
      ],
      "text/plain": [
       "<class 'statsmodels.iolib.table.SimpleTable'>"
      ]
     },
     "execution_count": 63,
     "metadata": {},
     "output_type": "execute_result"
    }
   ],
   "source": [
    "import statsmodels.formula.api as smf\n",
    "rdd_df = bank_data.assign(threshold=(bank_data[\"expected_recovery_amount\"] > 1000).astype(int))\n",
    "rdd_df = rdd_df.assign(running_var=(bank_data[\"expected_recovery_amount\"] - 1000).astype(int))\n",
    "rdd_df_bandwidth = rdd_df[(rdd_df[\"expected_recovery_amount\"] >= 800) & (rdd_df[\"expected_recovery_amount\"] <= 1200)]\n",
    "model = smf.ols(\"actual_recovery_amount~threshold+running_var+running_var*threshold\", rdd_df_bandwidth).fit()\n",
    "model.summary().tables[1]"
   ]
  },
  {
   "cell_type": "code",
   "execution_count": 65,
   "id": "8f6793e5",
   "metadata": {},
   "outputs": [
    {
     "data": {
      "text/plain": [
       "Text(0.5, 1.0, 'Regression Discontinuity')"
      ]
     },
     "execution_count": 65,
     "metadata": {},
     "output_type": "execute_result"
    },
    {
     "data": {
      "image/png": "[encoded data removed]",
      "text/plain": [
       "<Figure size 432x288 with 1 Axes>"
      ]
     },
     "metadata": {
      "needs_background": "light"
     },
     "output_type": "display_data"
    }
   ],
   "source": [
    "import matplotlib.pyplot as plt\n",
    "ax = bank_data.plot.scatter(x=\"expected_recovery_amount\",y=\"actual_recovery_amount\")\n",
    "ax.set_xlim([800, 1200])\n",
    "ax.set_ylim([0,2000])\n",
    "\n",
    "bank_data.assign(predictions=model.fittedvalues).plot(x=\"expected_recovery_amount\",y=\"predictions\",ax=ax,\n",
    "                                                     color=\"C1\")\n",
    "plt.title(\"Regression Discontinuity\")"
   ]
  },
  {
   "cell_type": "code",
   "execution_count": null,
   "id": "f29d9fdd",
   "metadata": {},
   "outputs": [],
   "source": []
  }
 ],
 "metadata": {
  "kernelspec": {
   "display_name": "Python 3 (ipykernel)",
   "language": "python",
   "name": "python3"
  },
  "language_info": {
   "codemirror_mode": {
    "name": "ipython",
    "version": 3
   },
   "file_extension": ".py",
   "mimetype": "text/x-python",
   "name": "python",
   "nbconvert_exporter": "python",
   "pygments_lexer": "ipython3",
   "version": "3.9.12"
  }
 },
 "nbformat": 4,
 "nbformat_minor": 5
}
